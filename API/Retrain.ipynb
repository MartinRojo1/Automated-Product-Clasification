{
 "cells": [
  {
   "cell_type": "code",
   "execution_count": 39,
   "metadata": {},
   "outputs": [],
   "source": [
    "import mysql.connector\n",
    "import joblib\n",
    "from datetime import datetime\n",
    "import pandas as pd\n",
    "db1 = mysql.connector.connect(host='localhost',user='root',password='martin',port=32000,database='proyect') "
   ]
  },
  {
   "cell_type": "code",
   "execution_count": 40,
   "metadata": {},
   "outputs": [],
   "source": [
    "mydb = db1.cursor()\n",
    "query = (\"select * from PROYECT\")\n",
    "mydb.execute(query)\n",
    "myresult = mydb.fetchall()"
   ]
  },
  {
   "cell_type": "code",
   "execution_count": 41,
   "metadata": {},
   "outputs": [],
   "source": [
    "df = pd.DataFrame(myresult)"
   ]
  },
  {
   "cell_type": "code",
   "execution_count": 42,
   "metadata": {},
   "outputs": [],
   "source": [
    "df.columns = ['Text','Category']"
   ]
  },
  {
   "cell_type": "code",
   "execution_count": 43,
   "metadata": {},
   "outputs": [
    {
     "data": {
      "text/html": [
       "<div>\n",
       "<style scoped>\n",
       "    .dataframe tbody tr th:only-of-type {\n",
       "        vertical-align: middle;\n",
       "    }\n",
       "\n",
       "    .dataframe tbody tr th {\n",
       "        vertical-align: top;\n",
       "    }\n",
       "\n",
       "    .dataframe thead th {\n",
       "        text-align: right;\n",
       "    }\n",
       "</style>\n",
       "<table border=\"1\" class=\"dataframe\">\n",
       "  <thead>\n",
       "    <tr style=\"text-align: right;\">\n",
       "      <th></th>\n",
       "      <th>Text</th>\n",
       "      <th>Category</th>\n",
       "    </tr>\n",
       "  </thead>\n",
       "  <tbody>\n",
       "    <tr>\n",
       "      <th>0</th>\n",
       "      <td>duracell aaa battery pack compatible select el...</td>\n",
       "      <td>Connected Home &amp; Housewares,Housewares,Househo...</td>\n",
       "    </tr>\n",
       "    <tr>\n",
       "      <th>1</th>\n",
       "      <td>duracell aa v coppertop battery pack long last...</td>\n",
       "      <td>Connected Home &amp; Housewares,Housewares,Househo...</td>\n",
       "    </tr>\n",
       "    <tr>\n",
       "      <th>2</th>\n",
       "      <td>duracell aa battery pack compatible select ele...</td>\n",
       "      <td>Connected Home &amp; Housewares,Housewares,Househo...</td>\n",
       "    </tr>\n",
       "    <tr>\n",
       "      <th>3</th>\n",
       "      <td>energizer max battery aa pack pack aa alkaline...</td>\n",
       "      <td>Connected Home &amp; Housewares,Housewares,Househo...</td>\n",
       "    </tr>\n",
       "    <tr>\n",
       "      <th>4</th>\n",
       "      <td>duracell c battery pack compatible select elec...</td>\n",
       "      <td>Connected Home &amp; Housewares,Housewares,Househo...</td>\n",
       "    </tr>\n",
       "    <tr>\n",
       "      <th>...</th>\n",
       "      <td>...</td>\n",
       "      <td>...</td>\n",
       "    </tr>\n",
       "    <tr>\n",
       "      <th>50963</th>\n",
       "      <td>dell optiplex small form factor desktop intel ...</td>\n",
       "      <td>Computers &amp; Tablets</td>\n",
       "    </tr>\n",
       "    <tr>\n",
       "      <th>50964</th>\n",
       "      <td>metra speaker connector select volkswagen vehi...</td>\n",
       "      <td>Car Electronics &amp; GPS,Car Installation Parts &amp;...</td>\n",
       "    </tr>\n",
       "    <tr>\n",
       "      <th>50965</th>\n",
       "      <td>dell optiplex small form factor desktop intel ...</td>\n",
       "      <td>Computers &amp; Tablets</td>\n",
       "    </tr>\n",
       "    <tr>\n",
       "      <th>50966</th>\n",
       "      <td>dell optiplex small form factor desktop intel ...</td>\n",
       "      <td>Computers &amp; Tablets</td>\n",
       "    </tr>\n",
       "    <tr>\n",
       "      <th>50967</th>\n",
       "      <td>metra speaker connector select volkswagen vehi...</td>\n",
       "      <td>Car Electronics &amp; GPS,Car Audio Installation P...</td>\n",
       "    </tr>\n",
       "  </tbody>\n",
       "</table>\n",
       "<p>50968 rows × 2 columns</p>\n",
       "</div>"
      ],
      "text/plain": [
       "                                                    Text  \\\n",
       "0      duracell aaa battery pack compatible select el...   \n",
       "1      duracell aa v coppertop battery pack long last...   \n",
       "2      duracell aa battery pack compatible select ele...   \n",
       "3      energizer max battery aa pack pack aa alkaline...   \n",
       "4      duracell c battery pack compatible select elec...   \n",
       "...                                                  ...   \n",
       "50963  dell optiplex small form factor desktop intel ...   \n",
       "50964  metra speaker connector select volkswagen vehi...   \n",
       "50965  dell optiplex small form factor desktop intel ...   \n",
       "50966  dell optiplex small form factor desktop intel ...   \n",
       "50967  metra speaker connector select volkswagen vehi...   \n",
       "\n",
       "                                                Category  \n",
       "0      Connected Home & Housewares,Housewares,Househo...  \n",
       "1      Connected Home & Housewares,Housewares,Househo...  \n",
       "2      Connected Home & Housewares,Housewares,Househo...  \n",
       "3      Connected Home & Housewares,Housewares,Househo...  \n",
       "4      Connected Home & Housewares,Housewares,Househo...  \n",
       "...                                                  ...  \n",
       "50963                                Computers & Tablets  \n",
       "50964  Car Electronics & GPS,Car Installation Parts &...  \n",
       "50965                                Computers & Tablets  \n",
       "50966                                Computers & Tablets  \n",
       "50967  Car Electronics & GPS,Car Audio Installation P...  \n",
       "\n",
       "[50968 rows x 2 columns]"
      ]
     },
     "execution_count": 43,
     "metadata": {},
     "output_type": "execute_result"
    }
   ],
   "source": [
    "df"
   ]
  },
  {
   "cell_type": "code",
   "execution_count": 44,
   "metadata": {},
   "outputs": [],
   "source": [
    "NameColumns = ['cat0' , 'cat1' , 'cat2', 'cat3', 'cat4', 'cat5']\n",
    "cat = df['Category'].str.split(',', expand=True)\n",
    "cat.columns = NameColumns"
   ]
  },
  {
   "cell_type": "code",
   "execution_count": 45,
   "metadata": {},
   "outputs": [
    {
     "data": {
      "text/html": [
       "<div>\n",
       "<style scoped>\n",
       "    .dataframe tbody tr th:only-of-type {\n",
       "        vertical-align: middle;\n",
       "    }\n",
       "\n",
       "    .dataframe tbody tr th {\n",
       "        vertical-align: top;\n",
       "    }\n",
       "\n",
       "    .dataframe thead th {\n",
       "        text-align: right;\n",
       "    }\n",
       "</style>\n",
       "<table border=\"1\" class=\"dataframe\">\n",
       "  <thead>\n",
       "    <tr style=\"text-align: right;\">\n",
       "      <th></th>\n",
       "      <th>cat0</th>\n",
       "      <th>cat1</th>\n",
       "      <th>cat2</th>\n",
       "      <th>cat3</th>\n",
       "      <th>cat4</th>\n",
       "      <th>cat5</th>\n",
       "    </tr>\n",
       "  </thead>\n",
       "  <tbody>\n",
       "    <tr>\n",
       "      <th>0</th>\n",
       "      <td>Connected Home &amp; Housewares</td>\n",
       "      <td>Housewares</td>\n",
       "      <td>Household Batteries</td>\n",
       "      <td>None</td>\n",
       "      <td>None</td>\n",
       "      <td>None</td>\n",
       "    </tr>\n",
       "    <tr>\n",
       "      <th>1</th>\n",
       "      <td>Connected Home &amp; Housewares</td>\n",
       "      <td>Housewares</td>\n",
       "      <td>Household Batteries</td>\n",
       "      <td>None</td>\n",
       "      <td>None</td>\n",
       "      <td>None</td>\n",
       "    </tr>\n",
       "    <tr>\n",
       "      <th>2</th>\n",
       "      <td>Connected Home &amp; Housewares</td>\n",
       "      <td>Housewares</td>\n",
       "      <td>Household Batteries</td>\n",
       "      <td>None</td>\n",
       "      <td>None</td>\n",
       "      <td>None</td>\n",
       "    </tr>\n",
       "    <tr>\n",
       "      <th>3</th>\n",
       "      <td>Connected Home &amp; Housewares</td>\n",
       "      <td>Housewares</td>\n",
       "      <td>Household Batteries</td>\n",
       "      <td>None</td>\n",
       "      <td>None</td>\n",
       "      <td>None</td>\n",
       "    </tr>\n",
       "    <tr>\n",
       "      <th>4</th>\n",
       "      <td>Connected Home &amp; Housewares</td>\n",
       "      <td>Housewares</td>\n",
       "      <td>Household Batteries</td>\n",
       "      <td>None</td>\n",
       "      <td>None</td>\n",
       "      <td>None</td>\n",
       "    </tr>\n",
       "    <tr>\n",
       "      <th>...</th>\n",
       "      <td>...</td>\n",
       "      <td>...</td>\n",
       "      <td>...</td>\n",
       "      <td>...</td>\n",
       "      <td>...</td>\n",
       "      <td>...</td>\n",
       "    </tr>\n",
       "    <tr>\n",
       "      <th>50963</th>\n",
       "      <td>Computers &amp; Tablets</td>\n",
       "      <td>None</td>\n",
       "      <td>None</td>\n",
       "      <td>None</td>\n",
       "      <td>None</td>\n",
       "      <td>None</td>\n",
       "    </tr>\n",
       "    <tr>\n",
       "      <th>50964</th>\n",
       "      <td>Car Electronics &amp; GPS</td>\n",
       "      <td>Car Installation Parts &amp; Accessories</td>\n",
       "      <td>None</td>\n",
       "      <td>None</td>\n",
       "      <td>None</td>\n",
       "      <td>None</td>\n",
       "    </tr>\n",
       "    <tr>\n",
       "      <th>50965</th>\n",
       "      <td>Computers &amp; Tablets</td>\n",
       "      <td>None</td>\n",
       "      <td>None</td>\n",
       "      <td>None</td>\n",
       "      <td>None</td>\n",
       "      <td>None</td>\n",
       "    </tr>\n",
       "    <tr>\n",
       "      <th>50966</th>\n",
       "      <td>Computers &amp; Tablets</td>\n",
       "      <td>None</td>\n",
       "      <td>None</td>\n",
       "      <td>None</td>\n",
       "      <td>None</td>\n",
       "      <td>None</td>\n",
       "    </tr>\n",
       "    <tr>\n",
       "      <th>50967</th>\n",
       "      <td>Car Electronics &amp; GPS</td>\n",
       "      <td>Car Audio Installation Parts</td>\n",
       "      <td>Car Installation Parts &amp; Accessories</td>\n",
       "      <td>None</td>\n",
       "      <td>None</td>\n",
       "      <td>None</td>\n",
       "    </tr>\n",
       "  </tbody>\n",
       "</table>\n",
       "<p>50968 rows × 6 columns</p>\n",
       "</div>"
      ],
      "text/plain": [
       "                              cat0                                  cat1  \\\n",
       "0      Connected Home & Housewares                            Housewares   \n",
       "1      Connected Home & Housewares                            Housewares   \n",
       "2      Connected Home & Housewares                            Housewares   \n",
       "3      Connected Home & Housewares                            Housewares   \n",
       "4      Connected Home & Housewares                            Housewares   \n",
       "...                            ...                                   ...   \n",
       "50963          Computers & Tablets                                  None   \n",
       "50964        Car Electronics & GPS  Car Installation Parts & Accessories   \n",
       "50965          Computers & Tablets                                  None   \n",
       "50966          Computers & Tablets                                  None   \n",
       "50967        Car Electronics & GPS          Car Audio Installation Parts   \n",
       "\n",
       "                                       cat2  cat3  cat4  cat5  \n",
       "0                       Household Batteries  None  None  None  \n",
       "1                       Household Batteries  None  None  None  \n",
       "2                       Household Batteries  None  None  None  \n",
       "3                       Household Batteries  None  None  None  \n",
       "4                       Household Batteries  None  None  None  \n",
       "...                                     ...   ...   ...   ...  \n",
       "50963                                  None  None  None  None  \n",
       "50964                                  None  None  None  None  \n",
       "50965                                  None  None  None  None  \n",
       "50966                                  None  None  None  None  \n",
       "50967  Car Installation Parts & Accessories  None  None  None  \n",
       "\n",
       "[50968 rows x 6 columns]"
      ]
     },
     "execution_count": 45,
     "metadata": {},
     "output_type": "execute_result"
    }
   ],
   "source": [
    "cat"
   ]
  },
  {
   "cell_type": "code",
   "execution_count": 8,
   "metadata": {},
   "outputs": [],
   "source": [
    "cat = cat[cat.columns[0:3]]"
   ]
  },
  {
   "cell_type": "code",
   "execution_count": 9,
   "metadata": {},
   "outputs": [],
   "source": [
    "cat = cat.replace('',None)"
   ]
  },
  {
   "cell_type": "code",
   "execution_count": 10,
   "metadata": {},
   "outputs": [],
   "source": [
    "cate = cat.copy()"
   ]
  },
  {
   "cell_type": "code",
   "execution_count": 11,
   "metadata": {},
   "outputs": [
    {
     "data": {
      "text/html": [
       "<div>\n",
       "<style scoped>\n",
       "    .dataframe tbody tr th:only-of-type {\n",
       "        vertical-align: middle;\n",
       "    }\n",
       "\n",
       "    .dataframe tbody tr th {\n",
       "        vertical-align: top;\n",
       "    }\n",
       "\n",
       "    .dataframe thead th {\n",
       "        text-align: right;\n",
       "    }\n",
       "</style>\n",
       "<table border=\"1\" class=\"dataframe\">\n",
       "  <thead>\n",
       "    <tr style=\"text-align: right;\">\n",
       "      <th></th>\n",
       "      <th>cat0</th>\n",
       "      <th>cat1</th>\n",
       "      <th>cat2</th>\n",
       "    </tr>\n",
       "  </thead>\n",
       "  <tbody>\n",
       "    <tr>\n",
       "      <th>0</th>\n",
       "      <td>Connected Home &amp; Housewares</td>\n",
       "      <td>Housewares</td>\n",
       "      <td>Household Batteries</td>\n",
       "    </tr>\n",
       "    <tr>\n",
       "      <th>1</th>\n",
       "      <td>Connected Home &amp; Housewares</td>\n",
       "      <td>Housewares</td>\n",
       "      <td>Household Batteries</td>\n",
       "    </tr>\n",
       "    <tr>\n",
       "      <th>2</th>\n",
       "      <td>Connected Home &amp; Housewares</td>\n",
       "      <td>Housewares</td>\n",
       "      <td>Household Batteries</td>\n",
       "    </tr>\n",
       "    <tr>\n",
       "      <th>3</th>\n",
       "      <td>Connected Home &amp; Housewares</td>\n",
       "      <td>Housewares</td>\n",
       "      <td>Household Batteries</td>\n",
       "    </tr>\n",
       "    <tr>\n",
       "      <th>4</th>\n",
       "      <td>Connected Home &amp; Housewares</td>\n",
       "      <td>Housewares</td>\n",
       "      <td>Household Batteries</td>\n",
       "    </tr>\n",
       "    <tr>\n",
       "      <th>...</th>\n",
       "      <td>...</td>\n",
       "      <td>...</td>\n",
       "      <td>...</td>\n",
       "    </tr>\n",
       "    <tr>\n",
       "      <th>50962</th>\n",
       "      <td>Computers &amp; Tablets</td>\n",
       "      <td>None</td>\n",
       "      <td>None</td>\n",
       "    </tr>\n",
       "    <tr>\n",
       "      <th>50963</th>\n",
       "      <td>Computers &amp; Tablets</td>\n",
       "      <td>None</td>\n",
       "      <td>None</td>\n",
       "    </tr>\n",
       "    <tr>\n",
       "      <th>50964</th>\n",
       "      <td>Car Electronics &amp; GPS</td>\n",
       "      <td>Car Installation Parts &amp; Accessories</td>\n",
       "      <td>None</td>\n",
       "    </tr>\n",
       "    <tr>\n",
       "      <th>50965</th>\n",
       "      <td>Computers &amp; Tablets</td>\n",
       "      <td>None</td>\n",
       "      <td>None</td>\n",
       "    </tr>\n",
       "    <tr>\n",
       "      <th>50966</th>\n",
       "      <td>Computers &amp; Tablets</td>\n",
       "      <td>None</td>\n",
       "      <td>None</td>\n",
       "    </tr>\n",
       "  </tbody>\n",
       "</table>\n",
       "<p>50967 rows × 3 columns</p>\n",
       "</div>"
      ],
      "text/plain": [
       "                              cat0                                  cat1  \\\n",
       "0      Connected Home & Housewares                            Housewares   \n",
       "1      Connected Home & Housewares                            Housewares   \n",
       "2      Connected Home & Housewares                            Housewares   \n",
       "3      Connected Home & Housewares                            Housewares   \n",
       "4      Connected Home & Housewares                            Housewares   \n",
       "...                            ...                                   ...   \n",
       "50962          Computers & Tablets                                  None   \n",
       "50963          Computers & Tablets                                  None   \n",
       "50964        Car Electronics & GPS  Car Installation Parts & Accessories   \n",
       "50965          Computers & Tablets                                  None   \n",
       "50966          Computers & Tablets                                  None   \n",
       "\n",
       "                      cat2  \n",
       "0      Household Batteries  \n",
       "1      Household Batteries  \n",
       "2      Household Batteries  \n",
       "3      Household Batteries  \n",
       "4      Household Batteries  \n",
       "...                    ...  \n",
       "50962                 None  \n",
       "50963                 None  \n",
       "50964                 None  \n",
       "50965                 None  \n",
       "50966                 None  \n",
       "\n",
       "[50967 rows x 3 columns]"
      ]
     },
     "execution_count": 11,
     "metadata": {},
     "output_type": "execute_result"
    }
   ],
   "source": [
    "cat"
   ]
  },
  {
   "cell_type": "code",
   "execution_count": null,
   "metadata": {},
   "outputs": [],
   "source": [
    "for i in cat:\n",
    "    row = 0\n",
    "    for category in cat[i]:\n",
    "        if category!= 0:\n",
    "         cat.loc[row,category] = 1\n",
    "         row += 1\n",
    "\n",
    "cat = cat.fillna(0)"
   ]
  },
  {
   "cell_type": "code",
   "execution_count": 13,
   "metadata": {},
   "outputs": [],
   "source": [
    "df = pd.concat([df,cat],axis=1)"
   ]
  },
  {
   "cell_type": "code",
   "execution_count": 14,
   "metadata": {},
   "outputs": [],
   "source": [
    "df = df.drop_duplicates()"
   ]
  },
  {
   "cell_type": "code",
   "execution_count": 15,
   "metadata": {},
   "outputs": [],
   "source": [
    "X = df.Text\n",
    "Y = df[df.columns[5:]]"
   ]
  },
  {
   "cell_type": "code",
   "execution_count": 16,
   "metadata": {},
   "outputs": [
    {
     "name": "stderr",
     "output_type": "stream",
     "text": [
      "2022-07-31 17:57:27.406819: W tensorflow/stream_executor/platform/default/dso_loader.cc:64] Could not load dynamic library 'libcudart.so.11.0'; dlerror: libcudart.so.11.0: cannot open shared object file: No such file or directory\n",
      "2022-07-31 17:57:27.406879: I tensorflow/stream_executor/cuda/cudart_stub.cc:29] Ignore above cudart dlerror if you do not have a GPU set up on your machine.\n"
     ]
    }
   ],
   "source": [
    "import pandas as pd\n",
    "import numpy as np\n",
    "import tensorflow as tf\n",
    "from tensorflow import keras\n",
    "from keras.preprocessing.text import Tokenizer\n",
    "from tensorflow.keras.preprocessing.sequence import pad_sequences\n",
    "from sklearn.model_selection import train_test_split\n"
   ]
  },
  {
   "cell_type": "code",
   "execution_count": 17,
   "metadata": {},
   "outputs": [
    {
     "data": {
      "text/plain": [
       "0        duracell aaa battery pack compatible select el...\n",
       "1        duracell aa v coppertop battery pack long last...\n",
       "2        duracell aa battery pack compatible select ele...\n",
       "3        energizer max battery aa pack pack aa alkaline...\n",
       "4        duracell c battery pack compatible select elec...\n",
       "                               ...                        \n",
       "50959    amazon fire tv stick stream p content dual ban...\n",
       "50960    proctor silex slice toaster oven white proctor...\n",
       "50961    metra speaker connector select volkswagen vehi...\n",
       "50962    dell optiplex small form factor desktop intel ...\n",
       "50964    metra speaker connector select volkswagen vehi...\n",
       "Name: Text, Length: 47644, dtype: object"
      ]
     },
     "execution_count": 17,
     "metadata": {},
     "output_type": "execute_result"
    }
   ],
   "source": [
    "X"
   ]
  },
  {
   "cell_type": "code",
   "execution_count": 18,
   "metadata": {},
   "outputs": [
    {
     "name": "stdout",
     "output_type": "stream",
     "text": [
      "Amount of different words through the 45232 products information: 20548\n",
      "Amount of sequences: 47644\n",
      "Sequences Examples: [3436, 1636, 28, 59, 3, 13, 110, 49, 1636, 154, 5100, 10, 3017, 26, 59] [3436, 1336, 62, 1, 28, 59, 883, 1536, 431, 5100, 10, 3017, 26, 1710, 923, 155, 137, 148, 5101] [3436, 1336, 28, 59, 3, 13, 110, 49, 1336, 154, 5100, 10, 3017, 26, 59] [1388, 1139, 28, 1336, 59, 59, 1336, 2361, 28, 28, 6111, 23] [3436, 334, 28, 59, 3, 13, 110, 49, 334, 154, 5100, 10, 3017, 26, 59]\n",
      "First Sequence padded: \n",
      " [3436 1636   28   59    3   13  110   49 1636  154 5100   10 3017   26\n",
      "   59    0    0    0    0    0    0    0    0    0    0    0    0    0\n",
      "    0    0    0    0    0    0    0    0    0    0    0    0    0    0\n",
      "    0    0    0    0    0    0    0    0    0    0    0    0    0    0\n",
      "    0    0    0]\n",
      "59 59 59\n",
      "Dataset Padded Shape: (47644, 59)\n"
     ]
    }
   ],
   "source": [
    "#First Step -> Tokenize and padd\n",
    "tokenizer = Tokenizer(num_words=10000, oov_token=\"<OOV>\") #num_words : the maximum number of words to keep, based on word frequency (for the 45232 products information), #oov : out-of-vocabulary token, it is agregated to words which are not in the 10000 most frequent ones\n",
    "tokenizer.fit_on_texts(X) # encoding words of information to integers, Updates internal vocabulary based on a list of sequences.\n",
    "word_index = tokenizer.word_index\n",
    "print(\"Amount of different words through the 45232 products information:\",len(word_index))\n",
    "sequences = tokenizer.texts_to_sequences(X)\n",
    "print(\"Amount of sequences:\", len(sequences)) #Should be equal to the amount of products \n",
    "print(\"Sequences Examples:\",sequences[0], sequences[1], sequences[2], sequences[3], sequences[4]) #This is how the first 5 products info are represented, each number represent a word in \"word_index\" dict.\n",
    "padded = pad_sequences(sequences, padding=\"post\") #This takes the maxlen parameter as a referene and makes all the lists of the same lenght adding zeros on the left spaces, if nothins is pass ot will take the longest sequence as a reference\n",
    "print(\"First Sequence padded: \\n\",padded[0])\n",
    "print(len(padded[0]), len(padded[1]), len(padded[2])) #Should all be equal to \n",
    "print(\"Dataset Padded Shape:\", padded.shape)"
   ]
  },
  {
   "cell_type": "code",
   "execution_count": null,
   "metadata": {},
   "outputs": [],
   "source": [
    "joblib.dump(tokenizer,'tokenizer.plk')"
   ]
  },
  {
   "cell_type": "code",
   "execution_count": 19,
   "metadata": {},
   "outputs": [],
   "source": [
    "# Splitting dataset in train/test set\n",
    "X_train, X_test, y_train, y_test = train_test_split(padded,Y, \n",
    "                                                    test_size=0.3, \n",
    "                                                    random_state=0)"
   ]
  },
  {
   "cell_type": "code",
   "execution_count": 20,
   "metadata": {},
   "outputs": [],
   "source": [
    "from keras.models import load_model\n",
    "from keras.models import Sequential\n",
    "from keras.layers import Dense, Embedding, GlobalMaxPool1D, Dropout\n",
    "from tensorflow.keras.optimizers import Adam\n",
    "from keras.callbacks import ReduceLROnPlateau, EarlyStopping, ModelCheckpoint\n",
    "from tensorflow.keras.utils import plot_model"
   ]
  },
  {
   "cell_type": "code",
   "execution_count": 21,
   "metadata": {},
   "outputs": [
    {
     "name": "stdout",
     "output_type": "stream",
     "text": [
      "760\n",
      "20549\n",
      "59\n"
     ]
    }
   ],
   "source": [
    "num_classes = y_train.shape[1]\n",
    "print(num_classes)\n",
    "max_words = len(word_index) + 1\n",
    "print(max_words)\n",
    "maxlen = len(padded[0])\n",
    "print(maxlen)"
   ]
  },
  {
   "cell_type": "code",
   "execution_count": 22,
   "metadata": {},
   "outputs": [],
   "source": [
    "from keras.layers import Activation, Flatten, Conv1D"
   ]
  },
  {
   "cell_type": "code",
   "execution_count": 23,
   "metadata": {},
   "outputs": [
    {
     "name": "stdout",
     "output_type": "stream",
     "text": [
      "Model: \"sequential\"\n",
      "_________________________________________________________________\n",
      " Layer (type)                Output Shape              Param #   \n",
      "=================================================================\n",
      " embedding (Embedding)       (None, 59, 300)           6164700   \n",
      "                                                                 \n",
      " dropout (Dropout)           (None, 59, 300)           0         \n",
      "                                                                 \n",
      " conv1d (Conv1D)             (None, 57, 300)           270300    \n",
      "                                                                 \n",
      " global_max_pooling1d (Globa  (None, 300)              0         \n",
      " lMaxPooling1D)                                                  \n",
      "                                                                 \n",
      " dropout_1 (Dropout)         (None, 300)               0         \n",
      "                                                                 \n",
      " dense (Dense)               (None, 760)               228760    \n",
      "                                                                 \n",
      " activation (Activation)     (None, 760)               0         \n",
      "                                                                 \n",
      "=================================================================\n",
      "Total params: 6,663,760\n",
      "Trainable params: 6,663,760\n",
      "Non-trainable params: 0\n",
      "_________________________________________________________________\n"
     ]
    },
    {
     "name": "stderr",
     "output_type": "stream",
     "text": [
      "2022-07-31 17:57:32.317064: W tensorflow/stream_executor/platform/default/dso_loader.cc:64] Could not load dynamic library 'libcuda.so.1'; dlerror: libcuda.so.1: cannot open shared object file: No such file or directory\n",
      "2022-07-31 17:57:32.317087: W tensorflow/stream_executor/cuda/cuda_driver.cc:269] failed call to cuInit: UNKNOWN ERROR (303)\n",
      "2022-07-31 17:57:32.317103: I tensorflow/stream_executor/cuda/cuda_diagnostics.cc:156] kernel driver does not appear to be running on this host (martin-MS-7C09): /proc/driver/nvidia/version does not exist\n",
      "2022-07-31 17:57:32.317732: I tensorflow/core/platform/cpu_feature_guard.cc:193] This TensorFlow binary is optimized with oneAPI Deep Neural Network Library (oneDNN) to use the following CPU instructions in performance-critical operations:  AVX2 FMA\n",
      "To enable them in other operations, rebuild TensorFlow with the appropriate compiler flags.\n"
     ]
    },
    {
     "data": {
      "text/plain": [
       "<keras.engine.sequential.Sequential at 0x7f69e9937a00>"
      ]
     },
     "execution_count": 23,
     "metadata": {},
     "output_type": "execute_result"
    }
   ],
   "source": [
    "optimizer = tf.keras.optimizers.Adam()\n",
    "\n",
    "model = Sequential()\n",
    "model.add(Embedding(max_words, 300, input_length=maxlen))\n",
    "model.add(Dropout(0.21))\n",
    "model.add(Conv1D(300, 3, padding='valid', activation='relu', strides=1))\n",
    "model.add(GlobalMaxPool1D()) # This layer creates a convolution kernel that is convolved with the layer input over a single spatial (or temporal) dimension to produce a tensor of outputs.\n",
    "model.add(Dropout(0.21))\n",
    "model.add(Dense(num_classes))\n",
    "model.add(Activation('sigmoid'))\n",
    "\n",
    "model.compile(optimizer='adam', loss='binary_crossentropy', metrics=['Precision','Recall', tf.keras.metrics.AUC()])\n",
    "\n",
    "callbacks = [\n",
    "    ReduceLROnPlateau(),\n",
    "    ModelCheckpoint(filepath='model-conv1d.h5', save_best_only=True)\n",
    "]\n",
    "\n",
    "model.summary()\n",
    "model"
   ]
  },
  {
   "cell_type": "code",
   "execution_count": 47,
   "metadata": {},
   "outputs": [
    {
     "ename": "NameError",
     "evalue": "name 'model' is not defined",
     "output_type": "error",
     "traceback": [
      "\u001b[0;31m---------------------------------------------------------------------------\u001b[0m",
      "\u001b[0;31mNameError\u001b[0m                                 Traceback (most recent call last)",
      "\u001b[1;32m/home/martin/Desktop/ProjectFinal/ProyectFinalCode/ay22-01-final-project-1/API/Retrain.ipynb Cell 25\u001b[0m in \u001b[0;36m<cell line: 1>\u001b[0;34m()\u001b[0m\n\u001b[0;32m----> <a href='vscode-notebook-cell:/home/martin/Desktop/ProjectFinal/ProyectFinalCode/ay22-01-final-project-1/API/Retrain.ipynb#ch0000023?line=0'>1</a>\u001b[0m model\u001b[39m.\u001b[39mfit(X_train, y_train,\n\u001b[1;32m      <a href='vscode-notebook-cell:/home/martin/Desktop/ProjectFinal/ProyectFinalCode/ay22-01-final-project-1/API/Retrain.ipynb#ch0000023?line=1'>2</a>\u001b[0m                     epochs\u001b[39m=\u001b[39m\u001b[39m30\u001b[39m,\n\u001b[1;32m      <a href='vscode-notebook-cell:/home/martin/Desktop/ProjectFinal/ProyectFinalCode/ay22-01-final-project-1/API/Retrain.ipynb#ch0000023?line=2'>3</a>\u001b[0m                     batch_size\u001b[39m=\u001b[39m\u001b[39m32\u001b[39m,\n\u001b[1;32m      <a href='vscode-notebook-cell:/home/martin/Desktop/ProjectFinal/ProyectFinalCode/ay22-01-final-project-1/API/Retrain.ipynb#ch0000023?line=3'>4</a>\u001b[0m                     validation_split\u001b[39m=\u001b[39m\u001b[39m0.3\u001b[39m,\n\u001b[1;32m      <a href='vscode-notebook-cell:/home/martin/Desktop/ProjectFinal/ProyectFinalCode/ay22-01-final-project-1/API/Retrain.ipynb#ch0000023?line=4'>5</a>\u001b[0m                     callbacks\u001b[39m=\u001b[39mcallbacks)\n",
      "\u001b[0;31mNameError\u001b[0m: name 'model' is not defined"
     ]
    }
   ],
   "source": [
    "model.fit(X_train, y_train,\n",
    "                    epochs=30,\n",
    "                    batch_size=32,\n",
    "                    validation_split=0.3,\n",
    "                    callbacks=callbacks)"
   ]
  },
  {
   "cell_type": "code",
   "execution_count": 25,
   "metadata": {},
   "outputs": [],
   "source": [
    "from sklearn.metrics import f1_score,recall_score,precision_score"
   ]
  },
  {
   "cell_type": "code",
   "execution_count": 26,
   "metadata": {},
   "outputs": [
    {
     "name": "stdout",
     "output_type": "stream",
     "text": [
      "447/447 [==============================] - 2s 4ms/step\n"
     ]
    }
   ],
   "source": [
    "predictions = model.predict(X_test, batch_size=32)"
   ]
  },
  {
   "cell_type": "code",
   "execution_count": 51,
   "metadata": {},
   "outputs": [],
   "source": [
    "def get_standar_metrics(predictions, y_test):\n",
    "  a = tranform_binary(predictions)\n",
    "  print(\"Evaluation Metrics\")\n",
    "  print('-'*30)\n",
    "  print(\"F1 Score:\",f1_score(y_test, a, average=\"micro\"))\n",
    "  print(\"Recall Score:\",recall_score(y_test, a, average=\"micro\"))\n",
    "  print(\"Precision Score:\",precision_score(y_test, a, average=\"micro\"))\n",
    "\n",
    "  return f1_score(y_test, a, average=\"micro\"),recall_score(y_test, a, average=\"micro\"),precision_score(y_test, a, average=\"micro\")"
   ]
  },
  {
   "cell_type": "code",
   "execution_count": 52,
   "metadata": {},
   "outputs": [],
   "source": []
  },
  {
   "cell_type": "code",
   "execution_count": 60,
   "metadata": {},
   "outputs": [
    {
     "name": "stdout",
     "output_type": "stream",
     "text": [
      "Evaluation Metrics\n",
      "------------------------------\n",
      "F1 Score: 0.9025376713554529\n",
      "Recall Score: 0.8847719298245614\n",
      "Precision Score: 0.9210314851340492\n"
     ]
    }
   ],
   "source": [
    "metrics = get_standar_metrics(predictions, y_test)"
   ]
  },
  {
   "cell_type": "code",
   "execution_count": 35,
   "metadata": {},
   "outputs": [],
   "source": [
    "\n",
    "var = (str(round(metrics[0],2)),datetime.today())"
   ]
  },
  {
   "cell_type": "code",
   "execution_count": 20,
   "metadata": {},
   "outputs": [],
   "source": [
    "import mysql.connector\n",
    "db1 = mysql.connector.connect(host='localhost',user='root',password='martin',port=32000,database='proyect') "
   ]
  },
  {
   "cell_type": "code",
   "execution_count": 37,
   "metadata": {},
   "outputs": [],
   "source": [
    "mydb = db1.cursor()\n",
    "\n",
    "\n",
    "query = \"\"\" INSERT INTO proyect.retrain \n",
    "            (f1,Date)\n",
    "            VALUES (%s,%s) \"\"\"\n",
    "mydb.execute(query,var)\n",
    "db1.commit()\n"
   ]
  }
 ],
 "metadata": {
  "kernelspec": {
   "display_name": "Python 3.10.4 64-bit",
   "language": "python",
   "name": "python3"
  },
  "language_info": {
   "codemirror_mode": {
    "name": "ipython",
    "version": 3
   },
   "file_extension": ".py",
   "mimetype": "text/x-python",
   "name": "python",
   "nbconvert_exporter": "python",
   "pygments_lexer": "ipython3",
   "version": "3.10.4"
  },
  "orig_nbformat": 4,
  "vscode": {
   "interpreter": {
    "hash": "31f2aee4e71d21fbe5cf8b01ff0e069b9275f58929596ceb00d14d90e3e16cd6"
   }
  }
 },
 "nbformat": 4,
 "nbformat_minor": 2
}
